{
 "cells": [
  {
   "cell_type": "markdown",
   "source": [
    "Лямбда-выражения в Kotlin имеют следующий синтаксис:\n",
    "val lambdaName: (Type1, Type2) -> ReturnType = { param1: Type1, param2: Type2 -> body }\n"
   ],
   "metadata": {
    "collapsed": false
   }
  },
  {
   "cell_type": "code",
   "execution_count": null,
   "metadata": {
    "collapsed": true
   },
   "outputs": [],
   "source": [
    "val sum: (Int, Int) -> Int = { x: Int, y: Int -> x + y }\n",
    "//Упрощенный синтаксис\n",
    "val sum = { x: Int, y: Int -> x + y }"
   ]
  },
  {
   "cell_type": "markdown",
   "source": [
    "Использование лямбда-выражений\n",
    "Передача лямбда-выражений в качестве параметров\n",
    "\n",
    "Лямбда-выражения часто используются как аргументы функций высшего порядка (функций, принимающих другие функции в качестве параметров)."
   ],
   "metadata": {
    "collapsed": false
   }
  },
  {
   "cell_type": "code",
   "execution_count": 1,
   "outputs": [],
   "source": [
    "fun calculate(x: Int, y: Int, operation: (Int, Int) -> Int): Int {\n",
    "    return operation(x, y)\n",
    "}\n",
    "\n",
    "fun main() {\n",
    "    val sum = calculate(5, 3) { a, b -> a + b }\n",
    "    val product = calculate(5, 3) { a, b -> a * b }\n",
    "    println(\"Sum: $sum, Product: $product\")\n",
    "}"
   ],
   "metadata": {
    "collapsed": false,
    "ExecuteTime": {
     "end_time": "2024-05-17T11:31:58.858714Z",
     "start_time": "2024-05-17T11:31:58.596086Z"
    }
   }
  },
  {
   "cell_type": "markdown",
   "source": [
    "Встроенные функции высшего порядка"
   ],
   "metadata": {
    "collapsed": false
   }
  },
  {
   "cell_type": "markdown",
   "source": [
    "map\n",
    "\n",
    "Функция map преобразует каждый элемент коллекции с помощью указанной лямбда-функции и возвращает новую коллекцию:"
   ],
   "metadata": {
    "collapsed": false
   }
  },
  {
   "cell_type": "code",
   "execution_count": 2,
   "outputs": [
    {
     "name": "stdout",
     "output_type": "stream",
     "text": [
      "[2, 4, 6, 8, 10]\n"
     ]
    }
   ],
   "source": [
    "val numbers = listOf(1, 2, 3, 4, 5)\n",
    "val doubled = numbers.map { it * 2 }\n",
    "println(doubled) // [2, 4, 6, 8, 10]"
   ],
   "metadata": {
    "collapsed": false,
    "ExecuteTime": {
     "end_time": "2024-05-17T11:32:30.444363Z",
     "start_time": "2024-05-17T11:32:30.153680Z"
    }
   }
  },
  {
   "cell_type": "markdown",
   "source": [
    "filter\n",
    "\n",
    "Функция filter отбирает элементы коллекции, для которых указанная лямбда-функция возвращает true:"
   ],
   "metadata": {
    "collapsed": false
   }
  },
  {
   "cell_type": "code",
   "execution_count": 3,
   "outputs": [
    {
     "name": "stdout",
     "output_type": "stream",
     "text": [
      "[2, 4]\n"
     ]
    }
   ],
   "source": [
    "val numbers = listOf(1, 2, 3, 4, 5)\n",
    "val evenNumbers = numbers.filter { it % 2 == 0 }\n",
    "println(evenNumbers) // [2, 4]"
   ],
   "metadata": {
    "collapsed": false,
    "ExecuteTime": {
     "end_time": "2024-05-17T11:55:44.519299Z",
     "start_time": "2024-05-17T11:55:43.895905Z"
    }
   }
  },
  {
   "cell_type": "code",
   "execution_count": null,
   "outputs": [],
   "source": [],
   "metadata": {
    "collapsed": false
   }
  },
  {
   "cell_type": "markdown",
   "source": [
    "### Конспект по темам: Интервалы, Прогрессии, Метки, Лямбда-выражения\n",
    "\n",
    "#### 1. Интервалы и Прогрессии\n",
    "\n",
    "##### Интервалы (Ranges)\n",
    "- **Интервалы** реализуют интерфейс `ClosedRange<T>` и представляют собой диапазон значений от начального до конечного включительно.\n",
    "- Создаются с помощью оператора `..` или функции `rangeTo()`.\n",
    "\n",
    "```kotlin\n",
    "val range1 = 1..5\n",
    "val range2 = 1.rangeTo(5)\n",
    "println(range1) // 1..5\n",
    "println(range2) // 1..5\n",
    "```\n",
    "\n",
    "##### Прогрессии (Progressions)\n",
    "- **Прогрессии** представляют собой последовательность значений с фиксированным шагом.\n",
    "- `IntRange` наследуется от `IntProgression` и реализует интерфейс `ClosedRange<Int>`.\n",
    "- Функции `downTo` и `step` создают прогрессии.\n",
    "\n",
    "```kotlin\n",
    "val range = 1..10 step 2\n",
    "for (i in range) {\n",
    "    println(i) // 1, 3, 5, 7, 9\n",
    "}\n",
    "\n",
    "val descending = 10 downTo 1\n",
    "for (i in descending) {\n",
    "    println(i) // 10, 9, 8, 7, 6, 5, 4, 3, 2, 1\n",
    "}\n",
    "```\n",
    "\n",
    "##### Метод `reversed()`\n",
    "- Метод `reversed()` инвертирует порядок элементов в прогрессии.\n",
    "\n",
    "```kotlin\n",
    "val range = 1..5\n",
    "val reversed = range.reversed()\n",
    "for (i in reversed) {\n",
    "    println(i) // 5, 4, 3, 2, 1\n",
    "}\n",
    "```\n",
    "\n",
    "#### 2. Метки\n",
    "\n",
    "- Метки в Kotlin позволяют управлять потоком выполнения с помощью операторов `break`, `continue` и `return`.\n",
    "- Метка обозначается идентификатором, за которым следует `@`.\n",
    "\n",
    "##### Пример использования меток\n",
    "\n",
    "```kotlin\n",
    "outer@ for (i in 1..5) {\n",
    "    for (j in 1..5) {\n",
    "        if (i * j > 6) {\n",
    "            break@outer // Выход из внешнего цикла\n",
    "        }\n",
    "        println(\"i = $i, j = $j\")\n",
    "    }\n",
    "}\n",
    "```\n",
    "\n",
    "##### Лямбда-выражения и метки\n",
    "\n",
    "```kotlin\n",
    "listOf(1, 2, 3, 4, 5).forEach fooBar@{\n",
    "    if (it == 3) {\n",
    "        return@fooBar // Выход из лямбда-функции\n",
    "    }\n",
    "    println(it)\n",
    "}\n",
    "// Output: 1, 2\n",
    "```\n",
    "\n",
    "#### 3. Лямбда-выражения\n",
    "\n",
    "- Лямбда-выражения — это анонимные функции, которые можно использовать в качестве значений.\n",
    "- Синтаксис: `{ параметры -> тело }`.\n",
    "\n",
    "##### Пример лямбда-выражения\n",
    "\n",
    "```kotlin\n",
    "val sum = { x: Int, y: Int -> x + y }\n",
    "println(sum(3, 4)) // 7\n",
    "```\n",
    "\n",
    "##### Лямбда-выражения как параметры функций\n",
    "\n",
    "```kotlin\n",
    "fun calculate(x: Int, y: Int, operation: (Int, Int) -> Int): Int {\n",
    "    return operation(x, y)\n",
    "}\n",
    "\n",
    "val result = calculate(5, 3) { a, b -> a + b }\n",
    "println(result) // 8\n",
    "```\n",
    "\n",
    "##### Использование `it` для единственного параметра\n",
    "\n",
    "```kotlin\n",
    "val numbers = listOf(1, 2, 3, 4, 5)\n",
    "val squared = numbers.map { it * it }\n",
    "println(squared) // [1, 4, 9, 16, 25]\n",
    "```\n",
    "\n",
    "##### Примеры функций высшего порядка\n",
    "\n",
    "- **map**: Преобразует каждый элемент коллекции.\n",
    "\n",
    "```kotlin\n",
    "val doubled = numbers.map { it * 2 }\n",
    "println(doubled) // [2, 4, 6, 8, 10]\n",
    "```\n",
    "\n",
    "- **filter**: Отбирает элементы коллекции по условию.\n",
    "\n",
    "```kotlin\n",
    "val evenNumbers = numbers.filter { it % 2 == 0 }\n",
    "println(evenNumbers) // [2, 4]\n",
    "```\n",
    "\n",
    "##### Замыкания (Closures)\n",
    "\n",
    "Лямбда-выражения могут захватывать переменные из окружающего контекста.\n",
    "\n",
    "```kotlin\n",
    "var sum = 0\n",
    "numbers.forEach { sum += it }\n",
    "println(\"Sum: $sum\") // Sum: 15\n",
    "```\n",
    "\n",
    "Этот конспект охватывает основные концепции и примеры для работы с интервалами, прогрессиями, метками и лямбда-выражениями в Kotlin."
   ],
   "metadata": {
    "collapsed": false
   }
  }
 ],
 "metadata": {
  "kernelspec": {
   "display_name": "Kotlin",
   "language": "kotlin",
   "name": "kotlin"
  },
  "language_info": {
   "name": "kotlin",
   "version": "1.9.0",
   "mimetype": "text/x-kotlin",
   "file_extension": ".kt",
   "pygments_lexer": "kotlin",
   "codemirror_mode": "text/x-kotlin",
   "nbconvert_exporter": ""
  }
 },
 "nbformat": 4,
 "nbformat_minor": 0
}
